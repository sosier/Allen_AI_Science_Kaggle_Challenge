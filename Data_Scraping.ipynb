{
 "cells": [
  {
   "cell_type": "markdown",
   "metadata": {},
   "source": [
    "# Supporting Data Scraping (Glossaries)"
   ]
  },
  {
   "cell_type": "code",
   "execution_count": 1,
   "metadata": {
    "collapsed": true
   },
   "outputs": [],
   "source": [
    "# Import Dependencies\n",
    "import pickle\n",
    "import requests\n",
    "from bs4 import BeautifulSoup\n",
    "from urllib.request import urlopen\n",
    "import re\n",
    "import string"
   ]
  },
  {
   "cell_type": "code",
   "execution_count": 2,
   "metadata": {
    "collapsed": true
   },
   "outputs": [],
   "source": [
    "data_path = \"/Users/seanosier/data/Metis/Final/\""
   ]
  },
  {
   "cell_type": "code",
   "execution_count": 3,
   "metadata": {
    "collapsed": true
   },
   "outputs": [],
   "source": [
    "# Pickling functions\n",
    "def pickle_it(data, filename, python_version=3):\n",
    "    \"\"\"\n",
    "    In:\n",
    "        data = the data you want to pickle (save)\n",
    "        filename = file name where you want to save the data\n",
    "        python_version = the python version where you will be opening the pickle file\n",
    "    \n",
    "    Out:\n",
    "        Saves a pickle file with your data to to the filename you specify\n",
    "    \"\"\"\n",
    "    with open(filename, \"wb\") as picklefile:\n",
    "        pickle.dump(data, picklefile, protocol=python_version)\n",
    "\n",
    "def load_pickle(filename):\n",
    "    \"\"\"\n",
    "    In:\n",
    "        filename = name of the pickle file you want to open (e.g \"my_pickle.pkl\")\n",
    "    \n",
    "    Out:\n",
    "        Opens and returns the content of the picklefile to a variable of your choice\n",
    "    \"\"\"\n",
    "    with open(filename, \"rb\") as picklefile: \n",
    "        return pickle.load(picklefile)"
   ]
  },
  {
   "cell_type": "code",
   "execution_count": 4,
   "metadata": {
    "collapsed": true
   },
   "outputs": [],
   "source": [
    "def get_HTML(url):\n",
    "    \"\"\"\n",
    "    In:\n",
    "        url = address of the website whose contents you want to scrape\n",
    "    \n",
    "    Out:\n",
    "        html = the raw HTML of the website for scraping\n",
    "    \"\"\"\n",
    "    response = requests.get(url)\n",
    "    assert (response.status_code >= 200) and (response.status_code < 300)\n",
    "    html = response.text\n",
    "    html = BeautifulSoup(html, \"lxml\")\n",
    "    return html"
   ]
  },
  {
   "cell_type": "markdown",
   "metadata": {},
   "source": [
    "### Scrape Quizlet Vocab Page"
   ]
  },
  {
   "cell_type": "code",
   "execution_count": 24,
   "metadata": {
    "collapsed": true
   },
   "outputs": [],
   "source": [
    "def scrape_quizlet_vocab(url):\n",
    "    \"\"\"\n",
    "    In:\n",
    "        url = url of Quizlet vocab page\n",
    "    \n",
    "    Out:\n",
    "        terms = List of Quizlet glossary terms\n",
    "        definitions = List of the corresponding definitions for the Quizlet glossary terms\n",
    "    \"\"\"\n",
    "    html = get_HTML(url)\n",
    "    \n",
    "    vocab_list = html.find(class_=\"terms\")\n",
    "    terms = vocab_list.find_all(\"h3\")\n",
    "    definitions = vocab_list.find_all(class_=\"definition\")\n",
    "    \n",
    "    terms = [term.text.strip() for term in terms]\n",
    "    definitions = [definition.text.strip() for definition in definitions]\n",
    "    \n",
    "    return terms, definitions"
   ]
  },
  {
   "cell_type": "code",
   "execution_count": 77,
   "metadata": {
    "collapsed": false
   },
   "outputs": [],
   "source": [
    "terms1, definitions1 = scrape_quizlet_vocab(\n",
    "    \"https://quizlet.com/21753155/8th-grade-physical-science-vocabulary-flash-cards/alphabetical\")"
   ]
  },
  {
   "cell_type": "code",
   "execution_count": 78,
   "metadata": {
    "collapsed": false
   },
   "outputs": [
    {
     "data": {
      "text/plain": [
       "(473, 473)"
      ]
     },
     "execution_count": 78,
     "metadata": {},
     "output_type": "execute_result"
    }
   ],
   "source": [
    "len(terms1), len(definitions1)"
   ]
  },
  {
   "cell_type": "markdown",
   "metadata": {},
   "source": [
    "### Scrape k12.sd.us Vocab Page"
   ]
  },
  {
   "cell_type": "code",
   "execution_count": 54,
   "metadata": {
    "collapsed": true
   },
   "outputs": [],
   "source": [
    "def scrape_k12_sd_us_vocab(url):\n",
    "    \"\"\"\n",
    "    In:\n",
    "        url = url of k12.sd.us vocab page\n",
    "    \n",
    "    Out:\n",
    "        terms = List of k12.sd.us glossary terms\n",
    "        definitions = List of the corresponding definitions for the k12.sd.us glossary terms\n",
    "    \"\"\"\n",
    "    html = get_HTML(url)\n",
    "    \n",
    "    vocab_list = html.find_all(\"li\")\n",
    "    vocab = [term.text.strip() for term in vocab_list]\n",
    "    vocab = [term.replace(\"\\xa0\", \"\").replace(\"\\r\", \"\").replace(\"\\n\", \"\").replace(\"    \", \" \") for term in vocab]\n",
    "    terms, definitions = zip(*[term.split(\": \") for term in vocab])\n",
    "\n",
    "    return terms, definitions"
   ]
  },
  {
   "cell_type": "code",
   "execution_count": 55,
   "metadata": {
    "collapsed": false
   },
   "outputs": [],
   "source": [
    "terms2, definitions2 = scrape_k12_sd_us_vocab(\n",
    "    \"https://sb058.k12.sd.us/vocabulary/8th_grade_science_vocabulary_ans.htm\")"
   ]
  },
  {
   "cell_type": "code",
   "execution_count": 43,
   "metadata": {
    "collapsed": false
   },
   "outputs": [
    {
     "data": {
      "text/plain": [
       "(308, 308)"
      ]
     },
     "execution_count": 43,
     "metadata": {},
     "output_type": "execute_result"
    }
   ],
   "source": [
    "len(terms2), len(definitions2)"
   ]
  },
  {
   "cell_type": "markdown",
   "metadata": {},
   "source": [
    "### Scrape Vocabularly.com Page"
   ]
  },
  {
   "cell_type": "code",
   "execution_count": 47,
   "metadata": {
    "collapsed": true
   },
   "outputs": [],
   "source": [
    "def scrape_vocabulary_com_vocab(url):\n",
    "    \"\"\"\n",
    "    In:\n",
    "        url = url of Vocabulary.com vocab page\n",
    "    \n",
    "    Out:\n",
    "        terms = List of Vocabulary.com glossary terms\n",
    "        definitions = List of the corresponding definitions for the Vocabulary.com glossary terms\n",
    "    \"\"\"\n",
    "    html = get_HTML(url)\n",
    "    \n",
    "    vocab_list = html.find(id=\"wordlist\")\n",
    "    terms = vocab_list.find_all(\"a\")\n",
    "    definitions = vocab_list.find_all(class_=\"definition\")\n",
    "    \n",
    "    terms = [term.text.strip() for term in terms]\n",
    "    definitions = [definition.text.strip() for definition in definitions]\n",
    "    \n",
    "    return terms, definitions"
   ]
  },
  {
   "cell_type": "code",
   "execution_count": 48,
   "metadata": {
    "collapsed": true
   },
   "outputs": [],
   "source": [
    "terms3, definitions3 = scrape_vocabulary_com_vocab(\n",
    "    \"http://www.vocabulary.com/lists/24280#view=notes\")"
   ]
  },
  {
   "cell_type": "code",
   "execution_count": 49,
   "metadata": {
    "collapsed": false
   },
   "outputs": [
    {
     "data": {
      "text/plain": [
       "(119, 119)"
      ]
     },
     "execution_count": 49,
     "metadata": {},
     "output_type": "execute_result"
    }
   ],
   "source": [
    "len(terms3), len(definitions3)"
   ]
  },
  {
   "cell_type": "markdown",
   "metadata": {},
   "source": [
    "### Read In 8th Grade Glossary .txt"
   ]
  },
  {
   "cell_type": "code",
   "execution_count": 115,
   "metadata": {
    "collapsed": true
   },
   "outputs": [],
   "source": [
    "def read_in_8th_grade_glossary_file(filename):\n",
    "    \"\"\"\n",
    "    In:\n",
    "        filename = Location of pre-downloaded 8th grade glossary .txt file\n",
    "    \n",
    "    Out:\n",
    "        terms = List of pre-downloaded 8th grade glossary terms\n",
    "        definitions = List of the corresponding definitions for the pre-downloaded 8th grade glossary terms\n",
    "    \"\"\"\n",
    "    vocab = []\n",
    "    with open(filename) as f:\n",
    "        for line in f:\n",
    "            vocab.append(line)\n",
    "    \n",
    "    vocab = [term.strip() for term in vocab]\n",
    "    vocab = [term for term in vocab if term != \"\"]\n",
    "    vocab = [term.split(\"-\") for term in vocab]\n",
    "    vocab = [(term[0].strip(), \"-\".join(term[1:]).strip()) for term in vocab]\n",
    "    \n",
    "    terms, definitions = zip(*vocab)\n",
    "    \n",
    "    return terms, definitions"
   ]
  },
  {
   "cell_type": "code",
   "execution_count": 75,
   "metadata": {
    "collapsed": false
   },
   "outputs": [],
   "source": [
    "terms4, definitions4 = read_in_8th_grade_glossary_file(data_path + \"8thgradeglossary.txt\")"
   ]
  },
  {
   "cell_type": "code",
   "execution_count": 76,
   "metadata": {
    "collapsed": false
   },
   "outputs": [
    {
     "data": {
      "text/plain": [
       "(143, 143)"
      ]
     },
     "execution_count": 76,
     "metadata": {},
     "output_type": "execute_result"
    }
   ],
   "source": [
    "len(terms4), len(definitions4)"
   ]
  },
  {
   "cell_type": "markdown",
   "metadata": {},
   "source": [
    "### Scrape HRW Glossary Pages"
   ]
  },
  {
   "cell_type": "code",
   "execution_count": 5,
   "metadata": {
    "collapsed": false
   },
   "outputs": [],
   "source": [
    "def scrape_HRW_vocab(starting_url):\n",
    "    \"\"\"\n",
    "    In:\n",
    "        starting_url = url of first HRW vocab page (\"A\")\n",
    "    \n",
    "    Out:\n",
    "        terms = List of HRW glossary terms\n",
    "        definitions = List of the corresponding definitions for the HRW glossary terms\n",
    "    \"\"\"\n",
    "    vocab = []\n",
    "    \n",
    "    # Scrape page for each letter\n",
    "    for letter in string.ascii_lowercase:\n",
    "        url = starting_url[:-5] + letter + \".htm\"\n",
    "        html = get_HTML(url)\n",
    "    \n",
    "        vocab_list = html.find_all(\"p\")\n",
    "        vocab += [str(term) for term in vocab_list]\n",
    "    \n",
    "    # Clean scraped vocab\n",
    "    vocab = [term.replace(\"<p>\",\"\") for term in vocab if type(term) != None]\n",
    "    vocab = [term.replace(\"</p>\",\"\") for term in vocab]\n",
    "    vocab = [term.replace(\"<b>\",\"\") for term in vocab]\n",
    "    vocab = [term.replace(\"</b>\",\"\") for term in vocab]\n",
    "    vocab = [term.replace(\"<br>\",\" = \") for term in vocab]\n",
    "    vocab = [term.replace(\"<br/>\",\" = \") for term in vocab]\n",
    "    vocab = [term.strip() for term in vocab]\n",
    "    \n",
    "    vocab = [term.split(\" = \") for term in vocab]\n",
    "    vocab = [(term[0].strip(), \" = \".join(term[1:]).strip()) for term in vocab]\n",
    "    terms, definitions = zip(*vocab)\n",
    "\n",
    "    return terms, definitions"
   ]
  },
  {
   "cell_type": "code",
   "execution_count": 117,
   "metadata": {
    "collapsed": false
   },
   "outputs": [],
   "source": [
    "terms5, definitions5 = scrape_HRW_vocab(\"http://go.hrw.com/resources/go_sc/glossary/termsa.htm\")"
   ]
  },
  {
   "cell_type": "code",
   "execution_count": 118,
   "metadata": {
    "collapsed": false
   },
   "outputs": [
    {
     "data": {
      "text/plain": [
       "(3401, 3401)"
      ]
     },
     "execution_count": 118,
     "metadata": {},
     "output_type": "execute_result"
    }
   ],
   "source": [
    "len(terms5), len(definitions5)"
   ]
  },
  {
   "cell_type": "markdown",
   "metadata": {},
   "source": [
    "### Combine All Vocab Lists"
   ]
  },
  {
   "cell_type": "code",
   "execution_count": 121,
   "metadata": {
    "collapsed": false
   },
   "outputs": [],
   "source": [
    "terms = list(terms1) + list(terms2) + list(terms3) + list(terms4) + list(terms5)\n",
    "definitions = list(definitions1) + list(definitions2) + list(definitions3) + list(definitions4) + list(definitions5)"
   ]
  },
  {
   "cell_type": "code",
   "execution_count": 122,
   "metadata": {
    "collapsed": false
   },
   "outputs": [
    {
     "data": {
      "text/plain": [
       "(4444, 4444)"
      ]
     },
     "execution_count": 122,
     "metadata": {},
     "output_type": "execute_result"
    }
   ],
   "source": [
    "len(terms), len(definitions)"
   ]
  },
  {
   "cell_type": "code",
   "execution_count": 123,
   "metadata": {
    "collapsed": true
   },
   "outputs": [],
   "source": [
    "pickle_it(terms, data_path + \"terms.pkl\")\n",
    "pickle_it(definitions, data_path + \"definitions.pkl\")"
   ]
  },
  {
   "cell_type": "code",
   "execution_count": null,
   "metadata": {
    "collapsed": true
   },
   "outputs": [],
   "source": []
  }
 ],
 "metadata": {
  "kernelspec": {
   "display_name": "Python 3",
   "language": "python",
   "name": "python3"
  },
  "language_info": {
   "codemirror_mode": {
    "name": "ipython",
    "version": 3
   },
   "file_extension": ".py",
   "mimetype": "text/x-python",
   "name": "python",
   "nbconvert_exporter": "python",
   "pygments_lexer": "ipython3",
   "version": "3.4.3"
  }
 },
 "nbformat": 4,
 "nbformat_minor": 0
}
