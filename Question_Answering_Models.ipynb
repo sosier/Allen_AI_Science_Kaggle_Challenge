{
 "cells": [
  {
   "cell_type": "markdown",
   "metadata": {},
   "source": [
    "# Question Answering Models"
   ]
  },
  {
   "cell_type": "code",
   "execution_count": 1,
   "metadata": {
    "collapsed": true
   },
   "outputs": [],
   "source": [
    "# Import Dependencies\n",
    "import pickle\n",
    "from collections import Counter\n",
    "import numpy as np\n",
    "\n",
    "# Pandas\n",
    "import pandas as pd\n",
    "pd.set_option('display.max_rows', 500)\n",
    "pd.set_option('display.max_columns', 500)\n",
    "\n",
    "# NLP\n",
    "import gensim  # Word 2 Vec\n",
    "from nltk.corpus import stopwords"
   ]
  },
  {
   "cell_type": "code",
   "execution_count": 2,
   "metadata": {
    "collapsed": true
   },
   "outputs": [],
   "source": [
    "data_path = \"/Users/seanosier/data/Metis/Final/\""
   ]
  },
  {
   "cell_type": "code",
   "execution_count": 3,
   "metadata": {
    "collapsed": true
   },
   "outputs": [],
   "source": [
    "# Pickling functions\n",
    "def pickle_it(data, filename, python_version=3):\n",
    "    \"\"\"\n",
    "    In:\n",
    "    data = the data you want to pickle (save)\n",
    "    filename = file name where you want to save the data\n",
    "    python_version = the python version where you will be opening the pickle file\n",
    "    \n",
    "    Out:\n",
    "    Saves a pickle file with your data to to the filename you specify\n",
    "    \"\"\"\n",
    "    with open(filename, \"wb\") as picklefile:\n",
    "        pickle.dump(data, picklefile, protocol=python_version)\n",
    "\n",
    "def load_pickle(filename):\n",
    "    \"\"\"\n",
    "    In:\n",
    "    filename = name of the pickle file you want to open (e.g \"my_pickle.pkl\")\n",
    "    \n",
    "    Out:\n",
    "    Opens and returns the content of the picklefile to a variable of your choice\n",
    "    \"\"\"\n",
    "    with open(filename, \"rb\") as picklefile: \n",
    "        return pickle.load(picklefile)"
   ]
  },
  {
   "cell_type": "code",
   "execution_count": 5,
   "metadata": {
    "collapsed": false
   },
   "outputs": [],
   "source": [
    "# Load Raw Data Sets\n",
    "raw_training_set = pd.DataFrame.from_csv(data_path + \"training_set.tsv\", sep=\"\\t\", index_col=False)\n",
    "raw_validation_set = pd.DataFrame.from_csv(data_path + \"validation_set.tsv\", sep=\"\\t\", index_col=False)"
   ]
  },
  {
   "cell_type": "markdown",
   "metadata": {},
   "source": [
    "### Model Training"
   ]
  },
  {
   "cell_type": "code",
   "execution_count": 6,
   "metadata": {
    "collapsed": false
   },
   "outputs": [
    {
     "name": "stdout",
     "output_type": "stream",
     "text": [
      "2500\n"
     ]
    },
    {
     "data": {
      "text/html": [
       "<div>\n",
       "<table border=\"1\" class=\"dataframe\">\n",
       "  <thead>\n",
       "    <tr style=\"text-align: right;\">\n",
       "      <th></th>\n",
       "      <th>id</th>\n",
       "      <th>question</th>\n",
       "      <th>correctAnswer</th>\n",
       "      <th>answerA</th>\n",
       "      <th>answerB</th>\n",
       "      <th>answerC</th>\n",
       "      <th>answerD</th>\n",
       "    </tr>\n",
       "  </thead>\n",
       "  <tbody>\n",
       "    <tr>\n",
       "      <th>0</th>\n",
       "      <td>100001</td>\n",
       "      <td>When athletes begin to exercise, their heart r...</td>\n",
       "      <td>C</td>\n",
       "      <td>at the tissue level</td>\n",
       "      <td>at the organ level</td>\n",
       "      <td>at the system level</td>\n",
       "      <td>at the cellular level</td>\n",
       "    </tr>\n",
       "  </tbody>\n",
       "</table>\n",
       "</div>"
      ],
      "text/plain": [
       "       id                                           question correctAnswer  \\\n",
       "0  100001  When athletes begin to exercise, their heart r...             C   \n",
       "\n",
       "               answerA             answerB              answerC  \\\n",
       "0  at the tissue level  at the organ level  at the system level   \n",
       "\n",
       "                 answerD  \n",
       "0  at the cellular level  "
      ]
     },
     "execution_count": 6,
     "metadata": {},
     "output_type": "execute_result"
    }
   ],
   "source": [
    "print(len(raw_training_set))\n",
    "raw_training_set.head(1)"
   ]
  },
  {
   "cell_type": "markdown",
   "metadata": {},
   "source": [
    "#### Determing Default / Fallback Option"
   ]
  },
  {
   "cell_type": "code",
   "execution_count": 7,
   "metadata": {
    "collapsed": false
   },
   "outputs": [
    {
     "data": {
      "text/plain": [
       "Counter({'A': 584, 'B': 672, 'C': 640, 'D': 604})"
      ]
     },
     "execution_count": 7,
     "metadata": {},
     "output_type": "execute_result"
    }
   ],
   "source": [
    "correct_answer_counter = Counter(raw_training_set[\"correctAnswer\"])\n",
    "correct_answer_counter"
   ]
  },
  {
   "cell_type": "markdown",
   "metadata": {},
   "source": [
    "**\"B\" was most common in training set, however after tests of just picking A, B, C, and D, \"A\" proved to be the best default choice for the test set:**\n",
    "1. All A's = 0.28125\n",
    "2. All B's = 0.24125\n",
    "3. All C's = 0.24750\n",
    "4. All D's = 0.23000"
   ]
  },
  {
   "cell_type": "markdown",
   "metadata": {},
   "source": [
    "#### \"All of the Above\" Exploration"
   ]
  },
  {
   "cell_type": "code",
   "execution_count": 8,
   "metadata": {
    "collapsed": false,
    "scrolled": true
   },
   "outputs": [
    {
     "data": {
      "text/plain": [
       "[('All of the above', 13),\n",
       " ('cell membrane', 6),\n",
       " ('decomposers', 5),\n",
       " ('transpiration', 4),\n",
       " ('temperature', 4),\n",
       " ('mechanical energy', 4),\n",
       " ('None of the above', 4),\n",
       " ('DNA', 4),\n",
       " ('carbon dioxide', 4),\n",
       " ('cells', 4)]"
      ]
     },
     "execution_count": 8,
     "metadata": {},
     "output_type": "execute_result"
    }
   ],
   "source": [
    "# Top 10 \"D\" Answers\n",
    "answer_D_counter = Counter(raw_training_set[\"answerD\"])\n",
    "sorted(answer_D_counter.items(), key=lambda a: a[1], reverse=True)[:10]"
   ]
  },
  {
   "cell_type": "code",
   "execution_count": 9,
   "metadata": {
    "collapsed": false
   },
   "outputs": [
    {
     "data": {
      "text/html": [
       "<div>\n",
       "<table border=\"1\" class=\"dataframe\">\n",
       "  <thead>\n",
       "    <tr style=\"text-align: right;\">\n",
       "      <th></th>\n",
       "      <th>id</th>\n",
       "      <th>question</th>\n",
       "      <th>correctAnswer</th>\n",
       "      <th>answerA</th>\n",
       "      <th>answerB</th>\n",
       "      <th>answerC</th>\n",
       "      <th>answerD</th>\n",
       "    </tr>\n",
       "  </thead>\n",
       "  <tbody>\n",
       "    <tr>\n",
       "      <th>35</th>\n",
       "      <td>100036</td>\n",
       "      <td>The number and sequence of amino acids in a pr...</td>\n",
       "      <td>D</td>\n",
       "      <td>chemical properties</td>\n",
       "      <td>shape</td>\n",
       "      <td>size</td>\n",
       "      <td>All of the above</td>\n",
       "    </tr>\n",
       "    <tr>\n",
       "      <th>185</th>\n",
       "      <td>100186</td>\n",
       "      <td>Which of the following changes can alter the f...</td>\n",
       "      <td>D</td>\n",
       "      <td>physical</td>\n",
       "      <td>temperature</td>\n",
       "      <td>pressure</td>\n",
       "      <td>All of the above</td>\n",
       "    </tr>\n",
       "    <tr>\n",
       "      <th>489</th>\n",
       "      <td>100490</td>\n",
       "      <td>Carbon is important to living organisms becaus...</td>\n",
       "      <td>D</td>\n",
       "      <td>have a variety of bonds</td>\n",
       "      <td>bond with other carbon atoms</td>\n",
       "      <td>bond with many other elements</td>\n",
       "      <td>All of the above</td>\n",
       "    </tr>\n",
       "    <tr>\n",
       "      <th>527</th>\n",
       "      <td>100528</td>\n",
       "      <td>The __________ of an element is determined by ...</td>\n",
       "      <td>D</td>\n",
       "      <td>thermal conductivity</td>\n",
       "      <td>melting temperature</td>\n",
       "      <td>electrical conductivity</td>\n",
       "      <td>both A and C</td>\n",
       "    </tr>\n",
       "    <tr>\n",
       "      <th>780</th>\n",
       "      <td>100781</td>\n",
       "      <td>The 6 key elements found in living organisms a...</td>\n",
       "      <td>D</td>\n",
       "      <td>water</td>\n",
       "      <td>carbon dioxide</td>\n",
       "      <td>proteins</td>\n",
       "      <td>All of the above</td>\n",
       "    </tr>\n",
       "    <tr>\n",
       "      <th>811</th>\n",
       "      <td>100812</td>\n",
       "      <td>When communicating the results of a scientific...</td>\n",
       "      <td>A</td>\n",
       "      <td>Any observations made during the investigation.</td>\n",
       "      <td>An overview of the procedure.</td>\n",
       "      <td>Your feelings as to how the investigation went.</td>\n",
       "      <td>All of the above</td>\n",
       "    </tr>\n",
       "    <tr>\n",
       "      <th>1092</th>\n",
       "      <td>101093</td>\n",
       "      <td>You make an observation that you hear crickets...</td>\n",
       "      <td>D</td>\n",
       "      <td>There are more crickets in the summer than in ...</td>\n",
       "      <td>Crickets chirp more often when the temperature...</td>\n",
       "      <td>Crickets mate in the summer, and the chirping ...</td>\n",
       "      <td>All of the above</td>\n",
       "    </tr>\n",
       "    <tr>\n",
       "      <th>1179</th>\n",
       "      <td>101180</td>\n",
       "      <td>Changes in population size in an ecosystem are...</td>\n",
       "      <td>D</td>\n",
       "      <td>number of births and deaths</td>\n",
       "      <td>number of producers</td>\n",
       "      <td>movement of organisms in and out</td>\n",
       "      <td>both A and C</td>\n",
       "    </tr>\n",
       "    <tr>\n",
       "      <th>1217</th>\n",
       "      <td>101218</td>\n",
       "      <td>Water can be seen in living organisms by _____...</td>\n",
       "      <td>D</td>\n",
       "      <td>squeezing the juice out of an orange</td>\n",
       "      <td>perspiration in humans</td>\n",
       "      <td>saliva in dogs</td>\n",
       "      <td>All of the above</td>\n",
       "    </tr>\n",
       "    <tr>\n",
       "      <th>1249</th>\n",
       "      <td>101250</td>\n",
       "      <td>You make an observation that you hear crickets...</td>\n",
       "      <td>B</td>\n",
       "      <td>placing one group in a dark room kept at 77 de...</td>\n",
       "      <td>placing one group in a lighted room kept at 60...</td>\n",
       "      <td>placing one group in a room kept at 80 degrees...</td>\n",
       "      <td>All of the above</td>\n",
       "    </tr>\n",
       "    <tr>\n",
       "      <th>1673</th>\n",
       "      <td>101674</td>\n",
       "      <td>You are drawing a diagram of a eukaryotic cell...</td>\n",
       "      <td>D</td>\n",
       "      <td>nucleus</td>\n",
       "      <td>cell membrane</td>\n",
       "      <td>mitochondria</td>\n",
       "      <td>All of the above</td>\n",
       "    </tr>\n",
       "    <tr>\n",
       "      <th>2205</th>\n",
       "      <td>102206</td>\n",
       "      <td>Which of the following is true of an UNDIFFERE...</td>\n",
       "      <td>D</td>\n",
       "      <td>It is capable of differentiating into any type...</td>\n",
       "      <td>It takes on the characteristics of the cells i...</td>\n",
       "      <td>It is an important type of cell in medical res...</td>\n",
       "      <td>All of the above</td>\n",
       "    </tr>\n",
       "    <tr>\n",
       "      <th>2295</th>\n",
       "      <td>102296</td>\n",
       "      <td>Which of the following is a property that can ...</td>\n",
       "      <td>D</td>\n",
       "      <td>melting temperature</td>\n",
       "      <td>density</td>\n",
       "      <td>thermal conductivity</td>\n",
       "      <td>All of the above</td>\n",
       "    </tr>\n",
       "    <tr>\n",
       "      <th>2299</th>\n",
       "      <td>102300</td>\n",
       "      <td>A physical change occurs when __________.</td>\n",
       "      <td>C</td>\n",
       "      <td>atoms rearrange to form new molecules</td>\n",
       "      <td>two compounds are mixed together forming a com...</td>\n",
       "      <td>a reversible change occurs in a substance</td>\n",
       "      <td>All of the above</td>\n",
       "    </tr>\n",
       "    <tr>\n",
       "      <th>2321</th>\n",
       "      <td>102322</td>\n",
       "      <td>The central nervous system consists of the ___...</td>\n",
       "      <td>D</td>\n",
       "      <td>brain</td>\n",
       "      <td>muscles</td>\n",
       "      <td>spinal cord</td>\n",
       "      <td>both A and C</td>\n",
       "    </tr>\n",
       "    <tr>\n",
       "      <th>2497</th>\n",
       "      <td>102498</td>\n",
       "      <td>Biodiversity can be altered by __________.</td>\n",
       "      <td>D</td>\n",
       "      <td>unexpected changes in the climate of an ecosystem</td>\n",
       "      <td>a fire in the ecosystem</td>\n",
       "      <td>a flood in the ecosystem</td>\n",
       "      <td>All of the above</td>\n",
       "    </tr>\n",
       "  </tbody>\n",
       "</table>\n",
       "</div>"
      ],
      "text/plain": [
       "          id                                           question correctAnswer  \\\n",
       "35    100036  The number and sequence of amino acids in a pr...             D   \n",
       "185   100186  Which of the following changes can alter the f...             D   \n",
       "489   100490  Carbon is important to living organisms becaus...             D   \n",
       "527   100528  The __________ of an element is determined by ...             D   \n",
       "780   100781  The 6 key elements found in living organisms a...             D   \n",
       "811   100812  When communicating the results of a scientific...             A   \n",
       "1092  101093  You make an observation that you hear crickets...             D   \n",
       "1179  101180  Changes in population size in an ecosystem are...             D   \n",
       "1217  101218  Water can be seen in living organisms by _____...             D   \n",
       "1249  101250  You make an observation that you hear crickets...             B   \n",
       "1673  101674  You are drawing a diagram of a eukaryotic cell...             D   \n",
       "2205  102206  Which of the following is true of an UNDIFFERE...             D   \n",
       "2295  102296  Which of the following is a property that can ...             D   \n",
       "2299  102300          A physical change occurs when __________.             C   \n",
       "2321  102322  The central nervous system consists of the ___...             D   \n",
       "2497  102498         Biodiversity can be altered by __________.             D   \n",
       "\n",
       "                                                answerA  \\\n",
       "35                                  chemical properties   \n",
       "185                                            physical   \n",
       "489                             have a variety of bonds   \n",
       "527                                thermal conductivity   \n",
       "780                                               water   \n",
       "811     Any observations made during the investigation.   \n",
       "1092  There are more crickets in the summer than in ...   \n",
       "1179                        number of births and deaths   \n",
       "1217               squeezing the juice out of an orange   \n",
       "1249  placing one group in a dark room kept at 77 de...   \n",
       "1673                                            nucleus   \n",
       "2205  It is capable of differentiating into any type...   \n",
       "2295                                melting temperature   \n",
       "2299              atoms rearrange to form new molecules   \n",
       "2321                                              brain   \n",
       "2497  unexpected changes in the climate of an ecosystem   \n",
       "\n",
       "                                                answerB  \\\n",
       "35                                                shape   \n",
       "185                                         temperature   \n",
       "489                        bond with other carbon atoms   \n",
       "527                                 melting temperature   \n",
       "780                                      carbon dioxide   \n",
       "811                       An overview of the procedure.   \n",
       "1092  Crickets chirp more often when the temperature...   \n",
       "1179                                number of producers   \n",
       "1217                             perspiration in humans   \n",
       "1249  placing one group in a lighted room kept at 60...   \n",
       "1673                                      cell membrane   \n",
       "2205  It takes on the characteristics of the cells i...   \n",
       "2295                                            density   \n",
       "2299  two compounds are mixed together forming a com...   \n",
       "2321                                            muscles   \n",
       "2497                            a fire in the ecosystem   \n",
       "\n",
       "                                                answerC           answerD  \n",
       "35                                                 size  All of the above  \n",
       "185                                            pressure  All of the above  \n",
       "489                       bond with many other elements  All of the above  \n",
       "527                             electrical conductivity      both A and C  \n",
       "780                                            proteins  All of the above  \n",
       "811     Your feelings as to how the investigation went.  All of the above  \n",
       "1092  Crickets mate in the summer, and the chirping ...  All of the above  \n",
       "1179                   movement of organisms in and out      both A and C  \n",
       "1217                                     saliva in dogs  All of the above  \n",
       "1249  placing one group in a room kept at 80 degrees...  All of the above  \n",
       "1673                                       mitochondria  All of the above  \n",
       "2205  It is an important type of cell in medical res...  All of the above  \n",
       "2295                               thermal conductivity  All of the above  \n",
       "2299          a reversible change occurs in a substance  All of the above  \n",
       "2321                                        spinal cord      both A and C  \n",
       "2497                           a flood in the ecosystem  All of the above  "
      ]
     },
     "execution_count": 9,
     "metadata": {},
     "output_type": "execute_result"
    }
   ],
   "source": [
    "raw_training_set[(raw_training_set[\"answerD\"] == \"All of the above\") | \\\n",
    "                 (raw_training_set[\"answerD\"] == \"both A and C\")]"
   ]
  },
  {
   "cell_type": "markdown",
   "metadata": {},
   "source": [
    "**\"All of the Above\" type answers are disproportionately correct. Always choose if present**"
   ]
  },
  {
   "cell_type": "markdown",
   "metadata": {},
   "source": [
    "**Simple / Rules-based Model includes only the two rules above:**\n",
    "1. If \"All of the Above\" type answer present, pick \"D\"\n",
    "2. Else, always pick \"A\""
   ]
  },
  {
   "cell_type": "markdown",
   "metadata": {},
   "source": [
    "**This yields ~28% accuracy**"
   ]
  },
  {
   "cell_type": "markdown",
   "metadata": {},
   "source": [
    " "
   ]
  },
  {
   "cell_type": "markdown",
   "metadata": {},
   "source": [
    "#### Word2Vec Training"
   ]
  },
  {
   "cell_type": "code",
   "execution_count": 9,
   "metadata": {
    "collapsed": true
   },
   "outputs": [],
   "source": [
    "train = raw_training_set"
   ]
  },
  {
   "cell_type": "code",
   "execution_count": 11,
   "metadata": {
    "collapsed": false
   },
   "outputs": [],
   "source": [
    "# Create \"docments\" with each question and it's correct answer as part of Word2Vec corpus\n",
    "train[\"correct_answer_text\"] = train.apply(lambda x: x[\"answer\" + x[\"correctAnswer\"]], axis=1)\n",
    "train[\"word2vec_text\"] = train[\"question\"] + \" \" + train[\"correct_answer_text\"]\n",
    "question_answer_combos = train[\"word2vec_text\"].tolist()"
   ]
  },
  {
   "cell_type": "code",
   "execution_count": 13,
   "metadata": {
    "collapsed": false
   },
   "outputs": [
    {
     "name": "stdout",
     "output_type": "stream",
     "text": [
      "113298 113298\n"
     ]
    },
    {
     "data": {
      "text/plain": [
       "226596"
      ]
     },
     "execution_count": 13,
     "metadata": {},
     "output_type": "execute_result"
    }
   ],
   "source": [
    "# Load pre-scraped and cleaned Wikipedia articles from Quikipedia project (https://github.com/sosier/Quikipedia)\n",
    "english_articles = load_pickle(data_path + \"english_articles.pkl\")\n",
    "simple_articles = load_pickle(data_path + \"simple_articles.pkl\")\n",
    "print(len(english_articles), len(simple_articles))\n",
    "\n",
    "wiki_articles = english_articles + simple_articles\n",
    "len(wiki_articles)"
   ]
  },
  {
   "cell_type": "code",
   "execution_count": 15,
   "metadata": {
    "collapsed": false
   },
   "outputs": [
    {
     "data": {
      "text/plain": [
       "4444"
      ]
     },
     "execution_count": 15,
     "metadata": {},
     "output_type": "execute_result"
    }
   ],
   "source": [
    "# Load in scraped 8th Grade Glossary terms and definitions\n",
    "terms = load_pickle(data_path + \"terms.pkl\")\n",
    "definitions = load_pickle(data_path + \"definitions.pkl\")\n",
    "\n",
    "# Combine each term with its definition\n",
    "vocab = [term + \" \" + definition for term, definition in zip(terms, definitions)]\n",
    "len(vocab)\n",
    "\n",
    "#vocab = [clean_corpus_text(term) for term in vocab]\n",
    "#vocab = [[word for word in term.lower().split() if word not in stop] for term in vocab]"
   ]
  },
  {
   "cell_type": "code",
   "execution_count": 22,
   "metadata": {
    "collapsed": false
   },
   "outputs": [
    {
     "data": {
      "text/plain": [
       "233540"
      ]
     },
     "execution_count": 22,
     "metadata": {},
     "output_type": "execute_result"
    }
   ],
   "source": [
    "word2vec_corpus = question_answer_combos + list(wiki_articles) + vocab\n",
    "len(word2vec_corpus)"
   ]
  },
  {
   "cell_type": "code",
   "execution_count": 23,
   "metadata": {
    "collapsed": true
   },
   "outputs": [],
   "source": [
    "def clean_corpus_text(text):\n",
    "    \"\"\"\n",
    "    In:\n",
    "    text = Text item including potential html break tags, punctuation, extra spaces, etc.\n",
    "    \n",
    "    Out:\n",
    "    text = Text cleaned to remove any html break tags, punctuation, extra spaces, etc.\n",
    "    \"\"\"\n",
    "    text = text.replace(\"<br><br>\", \" \")\n",
    "    text = text.replace(\"<br>\", \" \")\n",
    "    text = text.replace(\"<br/>\", \" \")\n",
    "    text = text.replace(\"<br />\", \" \")\n",
    "    text = text.replace(\"?\", \"\")\n",
    "    text = text.replace(\".\", \"\")\n",
    "    text = text.replace(\",\", \"\")\n",
    "    text = text.replace(\"!\", \"\")\n",
    "    text = text.replace(\"#\", \"\")\n",
    "    text = text.replace(\"`\", \"\")\n",
    "    text = text.replace(\"~\", \"\")\n",
    "    text = text.replace(\"^\", \"\")\n",
    "    text = text.replace(\"&\", \" and \")\n",
    "    text = text.replace(\"=\", \" \")\n",
    "    text = text.replace(\"|\", \" \")\n",
    "    text = text.replace(\"\\'\", \"\")\n",
    "    text = text.replace(\"\\\"\", \"\")\n",
    "    text = text.replace(\"\\\"\", \"\")\n",
    "    text = text.replace(\"(\", \"\")\n",
    "    text = text.replace(\")\", \"\")\n",
    "    text = text.replace(\"{\", \"\")\n",
    "    text = text.replace(\"}\", \"\")\n",
    "    text = text.replace(\"[\", \"\")\n",
    "    text = text.replace(\"]\", \"\")\n",
    "    text = text.replace(\"<\", \"\")\n",
    "    text = text.replace(\">\", \"\")\n",
    "    text = text.replace(\"*\", \"\")\n",
    "    text = text.replace(\":\", \"\")\n",
    "    text = text.replace(\";\", \"\")\n",
    "    text = text.replace(\"-\", \" \")\n",
    "    text = text.replace(\"_\", \" \")\n",
    "    text = text.replace(\"+\", \" \")\n",
    "    text = text.replace(\"/\", \" \")\n",
    "    text = text.replace(\"\\\\\", \" \")\n",
    "    text = text.replace(\"  \", \" \")\n",
    "    \n",
    "    return text"
   ]
  },
  {
   "cell_type": "code",
   "execution_count": 24,
   "metadata": {
    "collapsed": true
   },
   "outputs": [],
   "source": [
    "# Clean corpus\n",
    "word2vec_corpus = [clean_corpus_text(text) for text in word2vec_corpus]"
   ]
  },
  {
   "cell_type": "code",
   "execution_count": 25,
   "metadata": {
    "collapsed": false
   },
   "outputs": [
    {
     "name": "stdout",
     "output_type": "stream",
     "text": [
      "233540\n",
      "['athletes', 'begin', 'exercise', 'heart', 'rates', 'respiration', 'rates', 'increase', 'level', 'organization', 'human', 'body', 'coordinate', 'functions', 'system', 'level']\n"
     ]
    }
   ],
   "source": [
    "# Split coprus into words, and remove stop words\n",
    "stop = stopwords.words('english')\n",
    "stop = set(stop) - set(\"not\")  # Keep \"not\" (could be meaningful as a signal to negate what is in the string)\n",
    "\n",
    "word2vec_corpus = [[word for word in text.lower().split() if word not in stop] for text in word2vec_corpus]\n",
    "print(len(word2vec_corpus))\n",
    "print(word2vec_corpus[0])"
   ]
  },
  {
   "cell_type": "code",
   "execution_count": 26,
   "metadata": {
    "collapsed": false,
    "scrolled": true
   },
   "outputs": [],
   "source": [
    "# Create Word2Vec model\n",
    "word2vec_model = gensim.models.Word2Vec(word2vec_corpus, size=200, window=10, min_count=1, workers=4, sg=1)"
   ]
  },
  {
   "cell_type": "code",
   "execution_count": 27,
   "metadata": {
    "collapsed": false
   },
   "outputs": [
    {
     "data": {
      "text/plain": [
       "2209225"
      ]
     },
     "execution_count": 27,
     "metadata": {},
     "output_type": "execute_result"
    }
   ],
   "source": [
    "len(word2vec_model.vocab)"
   ]
  },
  {
   "cell_type": "code",
   "execution_count": 32,
   "metadata": {
    "collapsed": false
   },
   "outputs": [
    {
     "name": "stdout",
     "output_type": "stream",
     "text": [
      "0.610329061933\n",
      "0.553954475971\n",
      "0.762058073418\n",
      "0.620843493864\n"
     ]
    }
   ],
   "source": [
    "# Word2Vec Model on Example Question (gets it right):\n",
    "\n",
    "# A\n",
    "print(word2vec_model.n_similarity(['cellular', 'structure', 'allows', 'nutrients', 'pass', 'cells'], \n",
    "                                  ['mitochondrion']))\n",
    "# B\n",
    "print(word2vec_model.n_similarity(['cellular', 'structure', 'allows', 'nutrients', 'pass', 'cells'], \n",
    "                                  ['nucleus']))\n",
    "\n",
    "# C - Identified as best answer (CORRECT)\n",
    "print(word2vec_model.n_similarity(['cellular', 'structure', 'allows', 'nutrients', 'pass', 'cells'], \n",
    "                                  ['membrane']))\n",
    "\n",
    "# D\n",
    "print(word2vec_model.n_similarity(['cellular', 'structure', 'allows', 'nutrients', 'pass', 'cells'], \n",
    "                                  ['chloroplast']))"
   ]
  },
  {
   "cell_type": "code",
   "execution_count": 30,
   "metadata": {
    "collapsed": false
   },
   "outputs": [
    {
     "name": "stdout",
     "output_type": "stream",
     "text": [
      "0.266588257075\n",
      "0.302021376916\n",
      "0.284964574964\n",
      "0.260607964934\n"
     ]
    }
   ],
   "source": [
    "# Word2Vec Model on Example Question (gets it wrong):\n",
    "\n",
    "# A\n",
    "print(word2vec_model.n_similarity(['example', 'describes', 'learned', 'behavior', 'dog'], \n",
    "                                  ['smelling', 'air', 'odors']))\n",
    "# B - Identified as best answer (WRONG)\n",
    "print(word2vec_model.n_similarity(['example', 'describes', 'learned', 'behavior', 'dog'], \n",
    "                                  ['barking', 'disturbed']))\n",
    "\n",
    "# C - Correct answer\n",
    "print(word2vec_model.n_similarity(['example', 'describes', 'learned', 'behavior', 'dog'], \n",
    "                                  ['sitting', 'command']))\n",
    "\n",
    "# D\n",
    "print(word2vec_model.n_similarity(['example', 'describes', 'learned', 'behavior', 'dog'], \n",
    "                                  ['digging', 'soil']))"
   ]
  },
  {
   "cell_type": "code",
   "execution_count": null,
   "metadata": {
    "collapsed": true
   },
   "outputs": [],
   "source": []
  },
  {
   "cell_type": "markdown",
   "metadata": {},
   "source": [
    "### Creating Submission"
   ]
  },
  {
   "cell_type": "code",
   "execution_count": 33,
   "metadata": {
    "collapsed": false
   },
   "outputs": [
    {
     "name": "stdout",
     "output_type": "stream",
     "text": [
      "8132\n"
     ]
    },
    {
     "data": {
      "text/html": [
       "<div>\n",
       "<table border=\"1\" class=\"dataframe\">\n",
       "  <thead>\n",
       "    <tr style=\"text-align: right;\">\n",
       "      <th></th>\n",
       "      <th>id</th>\n",
       "      <th>question</th>\n",
       "      <th>answerA</th>\n",
       "      <th>answerB</th>\n",
       "      <th>answerC</th>\n",
       "      <th>answerD</th>\n",
       "    </tr>\n",
       "  </thead>\n",
       "  <tbody>\n",
       "    <tr>\n",
       "      <th>0</th>\n",
       "      <td>102501</td>\n",
       "      <td>A meter is industry by developing a process of...</td>\n",
       "      <td>cool foods during shipping</td>\n",
       "      <td>yard</td>\n",
       "      <td>nervous system</td>\n",
       "      <td>birds of prey</td>\n",
       "    </tr>\n",
       "  </tbody>\n",
       "</table>\n",
       "</div>"
      ],
      "text/plain": [
       "       id                                           question  \\\n",
       "0  102501  A meter is industry by developing a process of...   \n",
       "\n",
       "                      answerA answerB         answerC        answerD  \n",
       "0  cool foods during shipping    yard  nervous system  birds of prey  "
      ]
     },
     "execution_count": 33,
     "metadata": {},
     "output_type": "execute_result"
    }
   ],
   "source": [
    "print(len(raw_validation_set))\n",
    "raw_validation_set.head(1)"
   ]
  },
  {
   "cell_type": "code",
   "execution_count": 35,
   "metadata": {
    "collapsed": true
   },
   "outputs": [],
   "source": [
    "def generate_submission_csv(raw_validation_set, predictions):\n",
    "    \"\"\"\n",
    "    In:\n",
    "    raw_validation_set = Raw test data set provided by Kaggle as a pandas dataframe\n",
    "    predictions = List of predicted correct answers, one for each row in the raw_validation_set\n",
    "    \n",
    "    Out:\n",
    "    submission = Pandas dataframe / .csv for submission to Kaggle for scoring\n",
    "    \"\"\"\n",
    "    submission = raw_validation_set[\"id\"]\n",
    "    predictions = pd.DataFrame(predictions, columns=[\"correctAnswer\"])\n",
    "    submission = pd.concat([submission, predictions], axis=1)\n",
    "    \n",
    "    submission.to_csv(data_path + \"submission.csv\", index=False)\n",
    "    \n",
    "    return submission"
   ]
  },
  {
   "cell_type": "markdown",
   "metadata": {},
   "source": [
    "### Simple / Rules-Based Model"
   ]
  },
  {
   "cell_type": "markdown",
   "metadata": {},
   "source": [
    "*Guess D for All of the above, None of the above, etc.*"
   ]
  },
  {
   "cell_type": "code",
   "execution_count": 36,
   "metadata": {
    "collapsed": false
   },
   "outputs": [],
   "source": [
    "def check_for_all_of_the_above(D_answers):\n",
    "    \"\"\"\n",
    "    In:\n",
    "    D_answers = List of all option \"D\" answers\n",
    "    \n",
    "    Out:\n",
    "    is_all_of_the_above_type_answer = List of True / False as to whether \"D\" is an \"All of the above\" type answer\n",
    "    \"\"\"\n",
    "    is_all_of_the_above_type_answer = []\n",
    "    \n",
    "    for answer in D_answers:\n",
    "        \n",
    "        if answer[-1] == \".\":\n",
    "            answer = answer[:-1]\n",
    "            \n",
    "        if answer.lower() == \"all of the above\" or answer.lower() == \"none of the above\" or \\\n",
    "                answer.lower() == \"both a and b\" or answer.lower() == \"both a and c\" or \\\n",
    "                answer.lower() == \"both b and c\":\n",
    "            is_all_of_the_above_type_answer.append(True)\n",
    "        else:\n",
    "            is_all_of_the_above_type_answer.append(False)\n",
    "    \n",
    "    return is_all_of_the_above_type_answer"
   ]
  },
  {
   "cell_type": "code",
   "execution_count": 37,
   "metadata": {
    "collapsed": true
   },
   "outputs": [],
   "source": [
    "def simple_model_predict(raw_validation_set):\n",
    "    \"\"\"\n",
    "    In:\n",
    "    raw_validation_set = Raw test data set provided by Kaggle as a pandas dataframe\n",
    "    \n",
    "    Out:\n",
    "    predictions = List of predicted correct answers, one for each row in the raw_validation_set, \n",
    "        using the Simple Model\n",
    "    \"\"\"\n",
    "    raw_validation_set[\"predictions\"] = \"A\"  # Always pick A...\n",
    "    \n",
    "    # ...unless the there is an \"All of the Above\" type answer, then select D\n",
    "    raw_validation_set[\"is_all_of_the_above_type_answer\"] = check_for_all_of_the_above(raw_validation_set[\"answerD\"])\n",
    "    raw_validation_set[\"predictions\"] = raw_validation_set.apply(\n",
    "        lambda x: \"D\" if x[\"is_all_of_the_above_type_answer\"] else x[\"predictions\"],\n",
    "        axis = 1)\n",
    "    \n",
    "    return raw_validation_set[\"predictions\"].tolist()"
   ]
  },
  {
   "cell_type": "code",
   "execution_count": 38,
   "metadata": {
    "collapsed": false
   },
   "outputs": [
    {
     "data": {
      "text/html": [
       "<div>\n",
       "<table border=\"1\" class=\"dataframe\">\n",
       "  <thead>\n",
       "    <tr style=\"text-align: right;\">\n",
       "      <th></th>\n",
       "      <th>id</th>\n",
       "      <th>correctAnswer</th>\n",
       "    </tr>\n",
       "  </thead>\n",
       "  <tbody>\n",
       "    <tr>\n",
       "      <th>0</th>\n",
       "      <td>102501</td>\n",
       "      <td>A</td>\n",
       "    </tr>\n",
       "    <tr>\n",
       "      <th>1</th>\n",
       "      <td>102502</td>\n",
       "      <td>A</td>\n",
       "    </tr>\n",
       "    <tr>\n",
       "      <th>2</th>\n",
       "      <td>102503</td>\n",
       "      <td>A</td>\n",
       "    </tr>\n",
       "    <tr>\n",
       "      <th>3</th>\n",
       "      <td>102504</td>\n",
       "      <td>A</td>\n",
       "    </tr>\n",
       "    <tr>\n",
       "      <th>4</th>\n",
       "      <td>102505</td>\n",
       "      <td>A</td>\n",
       "    </tr>\n",
       "  </tbody>\n",
       "</table>\n",
       "</div>"
      ],
      "text/plain": [
       "       id correctAnswer\n",
       "0  102501             A\n",
       "1  102502             A\n",
       "2  102503             A\n",
       "3  102504             A\n",
       "4  102505             A"
      ]
     },
     "execution_count": 38,
     "metadata": {},
     "output_type": "execute_result"
    }
   ],
   "source": [
    "raw_validation_set = pd.DataFrame.from_csv(data_path + \"validation_set.tsv\", sep=\"\\t\", index_col=False)\n",
    "submission = generate_submission_csv(raw_validation_set, simple_model_predict(raw_validation_set))\n",
    "submission.head()"
   ]
  },
  {
   "cell_type": "code",
   "execution_count": 39,
   "metadata": {
    "collapsed": true
   },
   "outputs": [],
   "source": [
    "def clean_column_for_word2vec(df_column):\n",
    "    \"\"\"\n",
    "    In:\n",
    "    df_column = Raw text column from pandas DataFrame\n",
    "    \n",
    "    Out:\n",
    "    df_column = Raw text column cleaned for finding Word2Vec similarity scores\n",
    "    \"\"\"\n",
    "    stop = stopwords.words('english')\n",
    "    stop = set(stop) - set(\"not\")\n",
    "    word2vec_word_list = word2vec_model.vocab\n",
    "    \n",
    "    df_column = df_column.apply(lambda x: x.replace(\"?\", \"\"))\n",
    "    df_column = df_column.apply(lambda x: x.replace(\".\", \"\"))\n",
    "    df_column = df_column.apply(lambda x: x.replace(\"!\", \"\"))\n",
    "    df_column = df_column.apply(lambda x: x.replace(\",\", \"\"))\n",
    "    df_column = df_column.apply(lambda x: x.lower())\n",
    "    df_column = df_column.apply(lambda x: x.split())\n",
    "    \n",
    "    df_column = df_column.apply(lambda words: [word for word in words if word not in stop])\n",
    "    df_column = df_column.apply(lambda words: [word for word in words if word in word2vec_word_list])\n",
    "    \n",
    "    return df_column"
   ]
  },
  {
   "cell_type": "code",
   "execution_count": 40,
   "metadata": {
    "collapsed": true
   },
   "outputs": [],
   "source": [
    "def word2vec_model_predict(raw_validation_set):\n",
    "    \"\"\"\n",
    "    In:\n",
    "    raw_validation_set = Raw test data set provided by Kaggle as a pandas dataframe\n",
    "    \n",
    "    Out:\n",
    "    predictions = List of predicted correct answers, one for each row in the raw_validation_set, \n",
    "        using the Word2Vec Model\n",
    "    \"\"\"\n",
    "    # Process the question for Word2Vec\n",
    "    raw_validation_set[\"question\"] = clean_column_for_word2vec(raw_validation_set[\"question\"])\n",
    "    \n",
    "    # Store original answerD's because we will be processing each question for the Word2Vec\n",
    "    raw_validation_set[\"answerD_original\"] = raw_validation_set[\"answerD\"]\n",
    "    \n",
    "    # Process each answer and then get its Word2Vec similarity with the question\n",
    "    for letter in [\"A\", \"B\", \"C\", \"D\"]:\n",
    "        raw_validation_set[\"answer\" + letter] = clean_column_for_word2vec(raw_validation_set[\"answer\" + letter])\n",
    "        raw_validation_set[\"similarity_\" + letter] = raw_validation_set.apply(\n",
    "            lambda x: word2vec_model.n_similarity(x[\"question\"], x[\"answer\" + letter]) \\\n",
    "            if x[\"question\"] != [] and x[\"answer\" + letter] != [] else -np.inf, axis=1)\n",
    "    \n",
    "    # Predict the answer with the highest Word2Vec similarity score\n",
    "    raw_validation_set[\"predictions\"] = raw_validation_set[\n",
    "        [\"similarity_A\", \"similarity_B\", \"similarity_C\", \"similarity_D\"]].idxmax(axis=1)\n",
    "    raw_validation_set[\"predictions\"] = raw_validation_set[\"predictions\"].apply(\n",
    "        lambda x: x[-1] if type(x) == type(\"str\") else \"A\")\n",
    "    \n",
    "    # Check for any \"All of the above\" type answers, and select D in any such questions\n",
    "    raw_validation_set[\"is_all_of_the_above_type_answer\"] = check_for_all_of_the_above(\n",
    "        raw_validation_set[\"answerD_original\"])\n",
    "    raw_validation_set[\"predictions\"] = raw_validation_set.apply(\n",
    "        lambda x: \"D\" if x[\"is_all_of_the_above_type_answer\"] else x[\"predictions\"],\n",
    "        axis = 1)\n",
    "    \n",
    "    return raw_validation_set[\"predictions\"].tolist()"
   ]
  },
  {
   "cell_type": "code",
   "execution_count": 41,
   "metadata": {
    "collapsed": false
   },
   "outputs": [
    {
     "data": {
      "text/html": [
       "<div>\n",
       "<table border=\"1\" class=\"dataframe\">\n",
       "  <thead>\n",
       "    <tr style=\"text-align: right;\">\n",
       "      <th></th>\n",
       "      <th>id</th>\n",
       "      <th>correctAnswer</th>\n",
       "    </tr>\n",
       "  </thead>\n",
       "  <tbody>\n",
       "    <tr>\n",
       "      <th>0</th>\n",
       "      <td>102501</td>\n",
       "      <td>C</td>\n",
       "    </tr>\n",
       "    <tr>\n",
       "      <th>1</th>\n",
       "      <td>102502</td>\n",
       "      <td>D</td>\n",
       "    </tr>\n",
       "    <tr>\n",
       "      <th>2</th>\n",
       "      <td>102503</td>\n",
       "      <td>A</td>\n",
       "    </tr>\n",
       "    <tr>\n",
       "      <th>3</th>\n",
       "      <td>102504</td>\n",
       "      <td>B</td>\n",
       "    </tr>\n",
       "    <tr>\n",
       "      <th>4</th>\n",
       "      <td>102505</td>\n",
       "      <td>D</td>\n",
       "    </tr>\n",
       "  </tbody>\n",
       "</table>\n",
       "</div>"
      ],
      "text/plain": [
       "       id correctAnswer\n",
       "0  102501             C\n",
       "1  102502             D\n",
       "2  102503             A\n",
       "3  102504             B\n",
       "4  102505             D"
      ]
     },
     "execution_count": 41,
     "metadata": {},
     "output_type": "execute_result"
    }
   ],
   "source": [
    "raw_validation_set = pd.DataFrame.from_csv(data_path + \"validation_set.tsv\", sep=\"\\t\", index_col=False)\n",
    "submission = generate_submission_csv(raw_validation_set, word2vec_model_predict(raw_validation_set))\n",
    "submission.head()"
   ]
  },
  {
   "cell_type": "code",
   "execution_count": null,
   "metadata": {
    "collapsed": true
   },
   "outputs": [],
   "source": []
  }
 ],
 "metadata": {
  "kernelspec": {
   "display_name": "Python 3",
   "language": "python",
   "name": "python3"
  },
  "language_info": {
   "codemirror_mode": {
    "name": "ipython",
    "version": 3
   },
   "file_extension": ".py",
   "mimetype": "text/x-python",
   "name": "python",
   "nbconvert_exporter": "python",
   "pygments_lexer": "ipython3",
   "version": "3.4.3"
  }
 },
 "nbformat": 4,
 "nbformat_minor": 0
}
